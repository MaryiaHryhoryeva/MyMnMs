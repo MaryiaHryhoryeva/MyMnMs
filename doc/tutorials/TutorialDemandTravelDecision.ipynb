{
 "cells": [
  {
   "cell_type": "markdown",
   "id": "578be66f",
   "metadata": {},
   "source": [
    "# Demand and Travel Decision"
   ]
  },
  {
   "cell_type": "markdown",
   "id": "fb4d1b1e",
   "metadata": {},
   "source": [
    "## Generate a simple graph"
   ]
  },
  {
   "cell_type": "markdown",
   "id": "dec50399",
   "metadata": {},
   "source": [
    "### Flow Graph"
   ]
  },
  {
   "cell_type": "code",
   "execution_count": null,
   "id": "b6820390",
   "metadata": {},
   "outputs": [],
   "source": [
    "import matplotlib.pyplot as plt\n",
    "\n",
    "from mnms.graph.generation import create_grid_graph\n",
    "from mnms.tools.render import draw_flow_graph\n",
    "\n",
    "\n",
    "mmgraph = create_grid_graph(2, 2)\n",
    "\n",
    "fig, ax = plt.subplots(figsize=(16, 9))\n",
    "draw_flow_graph(ax, mmgraph.flow_graph, linkwidth=2, nodesize=5)"
   ]
  },
  {
   "cell_type": "markdown",
   "id": "6f0377f3",
   "metadata": {},
   "source": [
    "### Mobility Graph"
   ]
  },
  {
   "cell_type": "code",
   "execution_count": null,
   "id": "4fb5ba1c",
   "metadata": {},
   "outputs": [],
   "source": [
    "from mnms.mobility_service.base import BaseMobilityService\n",
    "\n",
    "car = BaseMobilityService('car', 10)\n",
    "\n",
    "for node in mmgraph.flow_graph.nodes:\n",
    "    car.add_node(f'C{node}', node)\n",
    "\n",
    "for (up_node, down_node), link in mmgraph.flow_graph.links.items():\n",
    "    car.add_link(f'C{up_node}_C{down_node}', \n",
    "                 f'C{up_node}', \n",
    "                 f'C{down_node}', \n",
    "                 costs={'length':1}, \n",
    "                 reference_links=[link.id])\n",
    "\n",
    "mmgraph.add_mobility_service(car)"
   ]
  },
  {
   "cell_type": "code",
   "execution_count": null,
   "id": "eba0e900",
   "metadata": {},
   "outputs": [],
   "source": [
    "from mnms.tools.render import draw_multimodal_graph\n",
    "\n",
    "fig, ax = plt.subplots(figsize=(16, 9))\n",
    "draw_multimodal_graph(ax, mmgraph, linkwidth=2, nodesize=5)"
   ]
  },
  {
   "cell_type": "markdown",
   "id": "aad1a4a4",
   "metadata": {},
   "source": [
    "## Demand"
   ]
  },
  {
   "cell_type": "markdown",
   "id": "f41bcb00",
   "metadata": {},
   "source": [
    "### Random demand\n",
    "\n",
    "In the following we create a random demand, the function `create_random_demand` return a `BaseDemandManager`."
   ]
  },
  {
   "cell_type": "code",
   "execution_count": null,
   "id": "01da5bcd",
   "metadata": {},
   "outputs": [],
   "source": [
    "from mnms.demand.generation import create_random_demand\n",
    "\n",
    "demand = create_random_demand(mmgraph, \n",
    "                              tstart=\"10:00:00\", \n",
    "                              tend=\"12:00:00\", \n",
    "                              cost_path='length', \n",
    "                              min_cost=4)\n",
    "demand.show_users()"
   ]
  },
  {
   "cell_type": "markdown",
   "id": "e6f9454d",
   "metadata": {},
   "source": [
    "### CSV Predefined demand"
   ]
  },
  {
   "cell_type": "code",
   "execution_count": null,
   "id": "1ea8c74b",
   "metadata": {},
   "outputs": [],
   "source": [
    "import pandas as pd\n",
    "\n",
    "csv_file = pd.read_csv('data/simple_demand.csv', sep=';')\n",
    "csv_file"
   ]
  },
  {
   "cell_type": "code",
   "execution_count": null,
   "id": "281fd328",
   "metadata": {},
   "outputs": [],
   "source": [
    "from mnms.demand import CSVDemandManager\n",
    "from mnms.tools.time import Time\n",
    "\n",
    "demand = CSVDemandManager('data/simple_demand.csv')\n",
    "\n",
    "demand.get_next_departures(Time(\"07:00:00\"), Time(\"07:30:00\"))"
   ]
  }
 ],
 "metadata": {
  "kernelspec": {
   "display_name": "Python 3 (ipykernel)",
   "language": "python",
   "name": "python3"
  },
  "language_info": {
   "codemirror_mode": {
    "name": "ipython",
    "version": 3
   },
   "file_extension": ".py",
   "mimetype": "text/x-python",
   "name": "python",
   "nbconvert_exporter": "python",
   "pygments_lexer": "ipython3",
   "version": "3.9.9"
  }
 },
 "nbformat": 4,
 "nbformat_minor": 5
}

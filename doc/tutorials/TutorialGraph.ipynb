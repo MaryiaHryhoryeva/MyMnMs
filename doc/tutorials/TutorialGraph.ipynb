{
 "cells": [
  {
   "cell_type": "markdown",
   "id": "fbc8a307",
   "metadata": {},
   "source": [
    "# Graph"
   ]
  },
  {
   "cell_type": "markdown",
   "id": "abbc84c7",
   "metadata": {},
   "source": [
    "In this tutorial we introduce the notion of `MultiModalGraph`, how to construct it, manipulate it.\n",
    "\n",
    "`MultiModalGraph` is made of two component, the `flow_graph` and the `mobility_graph`. They both are an `OrientedGraph`, but one is geometric and the other topologic. \n",
    "The `flow_graph` is a geometric representation of the roads. The `mobility_graph` represent each mobility service define on the `flow_graph`."
   ]
  },
  {
   "cell_type": "markdown",
   "id": "786bb997",
   "metadata": {},
   "source": [
    "## Create a simple flow graph"
   ]
  },
  {
   "cell_type": "markdown",
   "id": "c62d09d3",
   "metadata": {},
   "source": [
    "### Instantiation"
   ]
  },
  {
   "cell_type": "code",
   "execution_count": null,
   "id": "340dbcb6",
   "metadata": {},
   "outputs": [],
   "source": [
    "import mnms as ms\n",
    "\n",
    "mmgraph  = ms.MultiModalGraph()\n",
    "flow_graph = mmgraph.flow_graph"
   ]
  },
  {
   "cell_type": "markdown",
   "id": "9ae314fc",
   "metadata": {},
   "source": [
    "### Adding nodes"
   ]
  },
  {
   "cell_type": "code",
   "execution_count": null,
   "id": "9a033641",
   "metadata": {},
   "outputs": [],
   "source": [
    "flow_graph.add_node('IN', [-0.5, 0])\n",
    "flow_graph.add_node('0', [0, 0])\n",
    "flow_graph.add_node('1', [1, 0])\n",
    "flow_graph.add_node('2', [1, 1])\n",
    "flow_graph.add_node('3', [0, 1])\n",
    "flow_graph.add_node('OUT', [1.5, 1])\n",
    "\n",
    "flow_graph.nodes"
   ]
  },
  {
   "cell_type": "markdown",
   "id": "f40b5f81",
   "metadata": {},
   "source": [
    "### Adding links"
   ]
  },
  {
   "cell_type": "code",
   "execution_count": null,
   "id": "89f21c2a",
   "metadata": {},
   "outputs": [],
   "source": [
    "flow_graph.add_link('IN_0', 'IN', '0')\n",
    "flow_graph.add_link('0_1', '0', '1')\n",
    "flow_graph.add_link('1_2', '1', '2')\n",
    "flow_graph.add_link('0_3', '0', '3')\n",
    "flow_graph.add_link('3_2', '3', '2')\n",
    "flow_graph.add_link('2_OUT', '2', 'OUT')\n",
    "\n",
    "flow_graph.links"
   ]
  },
  {
   "cell_type": "markdown",
   "id": "c599bb2b",
   "metadata": {},
   "source": [
    "### Rendering"
   ]
  },
  {
   "cell_type": "code",
   "execution_count": null,
   "id": "75010e18",
   "metadata": {},
   "outputs": [],
   "source": [
    "from mnms.tools.render import draw_flow_graph\n",
    "import matplotlib.pyplot as plt\n",
    "\n",
    "fig, ax = plt.subplots(figsize=(16, 9))\n",
    "draw_flow_graph(ax, flow_graph, nodesize=5, linkwidth=2)"
   ]
  },
  {
   "cell_type": "markdown",
   "id": "340baf5d",
   "metadata": {},
   "source": [
    "## Add mobility services\n",
    "\n",
    "We add the nodes and links for the car and bus mobility service, each `TopoNode` in a mobility service can refer to a `GeoNode` of the `flow_graph`.\n",
    "Each link define a dictionnary of cost, in this example we use the travel time of the links."
   ]
  },
  {
   "cell_type": "markdown",
   "id": "8aadafae",
   "metadata": {},
   "source": [
    "### Car mobility service"
   ]
  },
  {
   "cell_type": "code",
   "execution_count": null,
   "id": "5f20cc1a",
   "metadata": {},
   "outputs": [],
   "source": [
    "SPEED_CAR = 10\n",
    "\n",
    "car = ms.BaseMobilityService('car', SPEED_CAR)\n",
    "car.add_node('CIN', 'IN')\n",
    "car.add_node('C0', '0')\n",
    "car.add_node('C1', '1')\n",
    "car.add_node('C2', '2')\n",
    "car.add_node('COUT', 'OUT')\n",
    "\n",
    "car.add_link('CIN_C0', 'CIN', 'C0', {'time':0.5/SPEED_CAR}, reference_links=['IN_0'])\n",
    "car.add_link('C0_C1', 'C0', 'C1', {'time':1/SPEED_CAR}, reference_links=['0_1'])\n",
    "car.add_link('C1_C2', 'C1', 'C2', {'time':1/SPEED_CAR}, reference_links=['1_2'])\n",
    "car.add_link('C2_COUT', 'C2', 'COUT', {'time':0.5/SPEED_CAR}, reference_links=['2_OUT'])"
   ]
  },
  {
   "cell_type": "markdown",
   "id": "c4534beb",
   "metadata": {},
   "source": [
    "### Bus mobility service"
   ]
  },
  {
   "cell_type": "code",
   "execution_count": null,
   "id": "4fd5fc4e",
   "metadata": {},
   "outputs": [],
   "source": [
    "SPEED_BUS = 5\n",
    "\n",
    "bus = ms.BaseMobilityService('bus', SPEED_BUS)\n",
    "bus.add_node('BIN', 'IN')\n",
    "bus.add_node('B0', '0')\n",
    "bus.add_node('B3', '3')\n",
    "bus.add_node('B2', '2')\n",
    "bus.add_node('BOUT', 'OUT')\n",
    "\n",
    "bus.add_link('BIN_B0', 'BIN', 'B0', {'time':0.5/SPEED_BUS}, reference_links=['IN_0'])\n",
    "bus.add_link('B0_B3', 'B0', 'B3', {'time':1/SPEED_BUS}, reference_links=['0_3'])\n",
    "bus.add_link('B3_B2', 'B3', 'B2', {'time':1/SPEED_BUS}, reference_links=['3_2'])\n",
    "bus.add_link('B2_COUT', 'B2', 'BOUT', {'time':0.5/SPEED_BUS}, reference_links=['2_OUT'])"
   ]
  },
  {
   "cell_type": "markdown",
   "id": "3ea55d60",
   "metadata": {},
   "source": [
    "### Add the mobility services to the MultiModalGraph\n",
    "\n",
    "Then we add the two mobility services to the `MultiModalGraph`. And check that there is no duplicate in the nodes and links."
   ]
  },
  {
   "cell_type": "code",
   "execution_count": null,
   "id": "076857db",
   "metadata": {},
   "outputs": [],
   "source": [
    "mmgraph.add_mobility_service(car)\n",
    "mmgraph.add_mobility_service(bus)\n",
    "mmgraph.mobility_graph.check()"
   ]
  },
  {
   "cell_type": "markdown",
   "id": "6273e1e4",
   "metadata": {},
   "source": [
    "### Rendering the mobility services"
   ]
  },
  {
   "cell_type": "code",
   "execution_count": null,
   "id": "2122c488",
   "metadata": {},
   "outputs": [],
   "source": [
    "from mnms.tools.render import draw_multimodal_graph\n",
    "\n",
    "fig, ax = plt.subplots(figsize=(16, 9))\n",
    "draw_multimodal_graph(ax, mmgraph, nodesize=5, linkwidth=2)"
   ]
  },
  {
   "cell_type": "markdown",
   "id": "224190c4",
   "metadata": {},
   "source": [
    "## Compute shortest path\n",
    "\n",
    "To compute a shortest path, we define a `User` with an origin/destination and a departure time. The shortest path algorithm use the dictionary of cost define on links. We use the `time` cost previously define."
   ]
  },
  {
   "cell_type": "code",
   "execution_count": null,
   "id": "d625ed60",
   "metadata": {},
   "outputs": [],
   "source": [
    "from mnms.graph.algorithms import compute_shortest_path\n",
    "from mnms.demand.user import User\n",
    "from mnms.tools.time import Time\n",
    "\n",
    "user = User('U0', 'IN', 'OUT', Time('07:00:00'))\n",
    "cost = compute_shortest_path(mmgraph, user, cost='time')\n",
    "print(f\"Path cost: {cost}, path:{user.path}\") "
   ]
  }
 ],
 "metadata": {
  "kernelspec": {
   "display_name": "Python 3 (ipykernel)",
   "language": "python",
   "name": "python3"
  },
  "language_info": {
   "codemirror_mode": {
    "name": "ipython",
    "version": 3
   },
   "file_extension": ".py",
   "mimetype": "text/x-python",
   "name": "python",
   "nbconvert_exporter": "python",
   "pygments_lexer": "ipython3",
   "version": "3.9.9"
  }
 },
 "nbformat": 4,
 "nbformat_minor": 5
}

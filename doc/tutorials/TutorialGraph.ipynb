{
 "cells": [
  {
   "cell_type": "markdown",
   "id": "fbc8a307",
   "metadata": {},
   "source": [
    "# Graph tutorial"
   ]
  },
  {
   "cell_type": "markdown",
   "id": "abbc84c7",
   "metadata": {},
   "source": [
    "In this tutorial we introduce the notion of `MultiModalGraph`, how to construct it, manipulate it.\n",
    "\n",
    "`MultiModalGraph` is made of two component, the `flow_graph` and the `mobility_graph`. They both are an `OrientedGraph`, but one is geometric and the other topologic. \n",
    "The `flow_graph` is a geometric representation of the roads. The `mobility_graph` represent each mobility service define on the `flow_graph`."
   ]
  },
  {
   "cell_type": "markdown",
   "id": "786bb997",
   "metadata": {},
   "source": [
    "## Create a simple flow graph"
   ]
  },
  {
   "cell_type": "markdown",
   "id": "c62d09d3",
   "metadata": {},
   "source": [
    "### Instanciation"
   ]
  },
  {
   "cell_type": "code",
   "execution_count": 1,
   "id": "340dbcb6",
   "metadata": {},
   "outputs": [],
   "source": [
    "import mnms as ms\n",
    "\n",
    "mmgraph  = ms.MultiModalGraph()\n",
    "flow_graph = mmgraph.flow_graph"
   ]
  },
  {
   "cell_type": "markdown",
   "id": "9ae314fc",
   "metadata": {},
   "source": [
    "### Adding nodes"
   ]
  },
  {
   "cell_type": "code",
   "execution_count": 2,
   "id": "9a033641",
   "metadata": {},
   "outputs": [
    {
     "data": {
      "text/plain": [
       "{'IN': GeoNode(id=IN, pos=[-0.5  0. ]),\n",
       " '0': GeoNode(id=0, pos=[0 0]),\n",
       " '1': GeoNode(id=1, pos=[1 0]),\n",
       " '2': GeoNode(id=2, pos=[1 1]),\n",
       " '3': GeoNode(id=3, pos=[0 1]),\n",
       " 'OUT': GeoNode(id=OUT, pos=[1.5 1. ])}"
      ]
     },
     "execution_count": 2,
     "metadata": {},
     "output_type": "execute_result"
    }
   ],
   "source": [
    "flow_graph.add_node('IN', [-0.5, 0])\n",
    "flow_graph.add_node('0', [0, 0])\n",
    "flow_graph.add_node('1', [1, 0])\n",
    "flow_graph.add_node('2', [1, 1])\n",
    "flow_graph.add_node('3', [0, 1])\n",
    "flow_graph.add_node('OUT', [1.5, 1])\n",
    "\n",
    "flow_graph.nodes"
   ]
  },
  {
   "cell_type": "markdown",
   "id": "f40b5f81",
   "metadata": {},
   "source": [
    "### Adding links"
   ]
  },
  {
   "cell_type": "code",
   "execution_count": 3,
   "id": "89f21c2a",
   "metadata": {},
   "outputs": [
    {
     "data": {
      "text/plain": [
       "{('IN', '0'): GeoLink(id=IN_0, upstream=IN, downstream=0, len=0.5),\n",
       " ('0', '1'): GeoLink(id=0_1, upstream=0, downstream=1, len=1.0),\n",
       " ('1', '2'): GeoLink(id=1_2, upstream=1, downstream=2, len=1.0),\n",
       " ('0', '3'): GeoLink(id=0_3, upstream=0, downstream=3, len=1.0),\n",
       " ('3', '2'): GeoLink(id=3_2, upstream=3, downstream=2, len=1.0),\n",
       " ('2', 'OUT'): GeoLink(id=2_OUT, upstream=2, downstream=OUT, len=0.5)}"
      ]
     },
     "execution_count": 3,
     "metadata": {},
     "output_type": "execute_result"
    }
   ],
   "source": [
    "flow_graph.add_link('IN_0', 'IN', '0')\n",
    "flow_graph.add_link('0_1', '0', '1')\n",
    "flow_graph.add_link('1_2', '1', '2')\n",
    "flow_graph.add_link('0_3', '0', '3')\n",
    "flow_graph.add_link('3_2', '3', '2')\n",
    "flow_graph.add_link('2_OUT', '2', 'OUT')\n",
    "\n",
    "flow_graph.links"
   ]
  },
  {
   "cell_type": "markdown",
   "id": "c599bb2b",
   "metadata": {},
   "source": [
    "### Rendering"
   ]
  },
  {
   "cell_type": "code",
   "execution_count": 4,
   "id": "75010e18",
   "metadata": {},
   "outputs": [
    {
     "data": {
      "image/png": "[encoded data removed]",
      "text/plain": [
       "<Figure size 1152x648 with 1 Axes>"
      ]
     },
     "metadata": {
      "needs_background": "light"
     },
     "output_type": "display_data"
    }
   ],
   "source": [
    "from mnms.tools.render import draw_flow_graph\n",
    "import matplotlib.pyplot as plt\n",
    "\n",
    "fig, ax = plt.subplots(figsize=(16, 9))\n",
    "draw_flow_graph(ax, flow_graph, nodesize=5, linkwidth=2)"
   ]
  }
 ],
 "metadata": {
  "kernelspec": {
   "display_name": "Python 3 (ipykernel)",
   "language": "python",
   "name": "python3"
  },
  "language_info": {
   "codemirror_mode": {
    "name": "ipython",
    "version": 3
   },
   "file_extension": ".py",
   "mimetype": "text/x-python",
   "name": "python",
   "nbconvert_exporter": "python",
   "pygments_lexer": "ipython3",
   "version": "3.9.9"
  }
 },
 "nbformat": 4,
 "nbformat_minor": 5
}

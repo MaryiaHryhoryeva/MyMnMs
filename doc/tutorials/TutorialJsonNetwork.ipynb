{
 "cells": [
  {
   "cell_type": "markdown",
   "id": "bef93ac6",
   "metadata": {},
   "source": [
    "# Json Tutorial"
   ]
  },
  {
   "cell_type": "markdown",
   "id": "baf2ba14",
   "metadata": {},
   "source": [
    "Dans ce tutoriel nous allons décrire la structure du fichier Json."
   ]
  },
  {
   "cell_type": "markdown",
   "id": "53a4a7ff",
   "metadata": {},
   "source": [
    "## Structure globale"
   ]
  },
  {
   "cell_type": "markdown",
   "id": "0487bf1d",
   "metadata": {},
   "source": [
    "Le fichier de réseau Json comporte deux grandes parties:\n",
    "\n",
    "- La partie “physique/géométrique” ROADS qui elle-même est constituée d’une liste de noeuds NODES, d’une liste d’arrêts STOPS et d’une liste de tronçons SECTIONS\n",
    "\n",
    "- La partie “topologique” LAYERS est constituée des différentes couches de mobilités (CAR, BUS, TRAM, METRO etc). On peut distinguer deux structures différentes, une pour le service de mobilité CAR et une autre pour les services de mobilité de TC (Transports en commun) :\n",
    "    - Le LAYER CAR\n",
    "    - Le LAYER TC\n",
    "    \n",
    "- La structure générale est présentée ci-dessous :"
   ]
  },
  {
   "cell_type": "code",
   "execution_count": 2,
   "id": "8760f8f2",
   "metadata": {},
   "outputs": [
    {
     "data": {
      "text/plain": [
       "{'ROADS': {}, 'LAYERS': [{}, {}, {}, {}]}"
      ]
     },
     "execution_count": 2,
     "metadata": {},
     "output_type": "execute_result"
    }
   ],
   "source": [
    "{\n",
    "    \"ROADS\": {\n",
    "        \"NODES\": {},\n",
    "        \"STOPS\": {},\n",
    "        \"SECTIONS\": {}\n",
    "    },\n",
    "    \n",
    "    \"LAYERS\": [\n",
    "        {},\n",
    "        {},\n",
    "        {},\n",
    "        {}\n",
    "    ]\n",
    "    \n",
    "}"
   ]
  },
  {
   "cell_type": "markdown",
   "id": "5f74ec48",
   "metadata": {},
   "source": [
    "## Structure de la partie ROADS"
   ]
  },
  {
   "cell_type": "markdown",
   "id": "eca7f2ab",
   "metadata": {},
   "source": [
    "### Structure de la liste NODES\n",
    "\n",
    "- La liste NODES contient les noeuds définis par leur identifiant, chaque noeud est associé à un tableau avec deux valeurs flottantes x et y représentant les coordonnées du noeud."
   ]
  },
  {
   "cell_type": "code",
   "execution_count": 4,
   "id": "29a9f14d",
   "metadata": {},
   "outputs": [
    {
     "data": {
      "text/plain": [
       "{'NODES': {'ID_Node1': [848599.9577530001, 6520050.3492815],\n",
       "  'ID_Node2': [846023.7144265001, 6521597.059799167]}}"
      ]
     },
     "execution_count": 4,
     "metadata": {},
     "output_type": "execute_result"
    }
   ],
   "source": [
    "{\n",
    "    \"NODES\": {\n",
    "        \"ID_Node1\" : [\n",
    "            848599.9577530001,\n",
    "            6520050.3492815\n",
    "        ],\n",
    "        \"ID_Node2\" : [\n",
    "            846023.7144265001,\n",
    "            6521597.059799167\n",
    "        ]\n",
    "    }\n",
    "}\n"
   ]
  },
  {
   "cell_type": "markdown",
   "id": "a4d7bc63",
   "metadata": {},
   "source": [
    "### Structure de la liste STOPS\n",
    "\n",
    "- La liste STOPS contient les arrêts définis par leur identifiant, chaque arrêt contient à son tour:\n",
    "    - un attribut \"section\" avec pour valeur l'identfiant de la section.\n",
    "    - un attribut \"relative_position\" avec pour valeur un nombre flottant.\n",
    "    - un attribut \"absolute_position\" associé à un tableau avec deux valeurs flottantes x et y représentant les coordonnées de l'arrêt."
   ]
  },
  {
   "cell_type": "code",
   "execution_count": 6,
   "id": "643d740a",
   "metadata": {},
   "outputs": [
    {
     "data": {
      "text/plain": [
       "{'STOPS': {'ID_Stop1': {'section': 'ID_Section1',\n",
       "   'relative_position': 0.7481000042569544,\n",
       "   'absolute_position': [844322.625688825, 6520127.423836509]},\n",
       "  'ID_Stop2': {'section': 'ID_Section2',\n",
       "   'relative_position': 0.9584591456971882,\n",
       "   'absolute_position': [847268.9708551877, 6519569.056472435]}}}"
      ]
     },
     "execution_count": 6,
     "metadata": {},
     "output_type": "execute_result"
    }
   ],
   "source": [
    "{\n",
    "    \"STOPS\": {\n",
    "        \"ID_Stop1\": {\n",
    "            \"section\": \"ID_Section1\",\n",
    "            \"relative_position\": 0.7481000042569544,\n",
    "            \"absolute_position\": [\n",
    "                844322.625688825,\n",
    "                6520127.423836509\n",
    "            ]\n",
    "        },\n",
    "        \"ID_Stop2\": {\n",
    "            \"section\": \"ID_Section2\",\n",
    "            \"relative_position\": 0.9584591456971882,\n",
    "            \"absolute_position\": [\n",
    "                847268.9708551877,\n",
    "                6519569.056472435\n",
    "            ]\n",
    "        }\n",
    "    }\n",
    "}\n"
   ]
  },
  {
   "cell_type": "markdown",
   "id": "049b9c23",
   "metadata": {},
   "source": [
    "### Structure de la liste SECTIONS\n",
    "\n",
    "- La liste SECTIONS contient les tronçons définis par leur identifiant, chaque tronçon contient à son tour:\n",
    "    - un attribut \"upstream\" avec pour valeur l'identifant du noeud de départ du tronçon.\n",
    "    - un attribut \"downstream\" avec pour valeur l'identifiant du noeud d'arrivée du tronçon.\n",
    "    - un attribut \"length\" contenant une valeur flottante representant la longueur du tronçon.\n",
    "    - un attribut \"zone\" avec l'identifiant de la zone ou de réservoir (Simulation MFD)."
   ]
  },
  {
   "cell_type": "code",
   "execution_count": 7,
   "id": "e3908005",
   "metadata": {},
   "outputs": [
    {
     "data": {
      "text/plain": [
       "{'SECTIONS': {'ID_Section1': {'upstream': 'ID_Node1',\n",
       "   'downstream': 'ID_Node2',\n",
       "   'length': 177.5312235704905,\n",
       "   'zone': 'RES'},\n",
       "  'ID_Section2': {'upstream': 'ID_Node1',\n",
       "   'downstream': 'ID_Node2',\n",
       "   'length': 177.5312235704905,\n",
       "   'zone': 'RES'}}}"
      ]
     },
     "execution_count": 7,
     "metadata": {},
     "output_type": "execute_result"
    }
   ],
   "source": [
    "{\n",
    "    \"SECTIONS\": {\n",
    "        \"ID_Section1\": {\n",
    "            \"upstream\": \"ID_Node1\",\n",
    "            \"downstream\": \"ID_Node2\",\n",
    "            \"length\": 177.5312235704905,\n",
    "            \"zone\": \"RES\"\n",
    "        },\n",
    "        \"ID_Section2\": {\n",
    "            \"upstream\": \"ID_Node1\",\n",
    "            \"downstream\": \"ID_Node2\",\n",
    "            \"length\": 177.5312235704905,\n",
    "            \"zone\": \"RES\"\n",
    "        }\n",
    "    }\n",
    "}\n"
   ]
  },
  {
   "cell_type": "markdown",
   "id": "4eff53c0",
   "metadata": {},
   "source": [
    "## Structure de la partie LAYERS"
   ]
  },
  {
   "cell_type": "markdown",
   "id": "ebc61970",
   "metadata": {},
   "source": [
    "### Structure du layer CAR\n",
    "\n",
    "- Le Layer CAR"
   ]
  },
  {
   "cell_type": "code",
   "execution_count": 9,
   "id": "0b61bf7a",
   "metadata": {},
   "outputs": [
    {
     "data": {
      "text/plain": [
       "{'ID': 'CAR',\n",
       " 'TYPE': 'mnms.graph.layers.CarLayer',\n",
       " 'VEH_TYPE': 'mnms.vehicles.veh_type.Car',\n",
       " 'DEFAULT_SPEED': 13.8,\n",
       " 'SERVICES': [],\n",
       " 'NODES': [],\n",
       " 'LINKS': [],\n",
       " 'MAP_ROADDB': {}}"
      ]
     },
     "execution_count": 9,
     "metadata": {},
     "output_type": "execute_result"
    }
   ],
   "source": [
    "{\n",
    "    \"ID\": \"CAR\",\n",
    "    \"TYPE\": \"mnms.graph.layers.CarLayer\",\n",
    "    \"VEH_TYPE\": \"mnms.vehicles.veh_type.Car\",\n",
    "    \"DEFAULT_SPEED\": 13.8,\n",
    "    \"SERVICES\": [],\n",
    "    \"NODES\": [],\n",
    "    \"LINKS\": [],\n",
    "    \"MAP_ROADDB\": {}\n",
    "}"
   ]
  },
  {
   "cell_type": "markdown",
   "id": "d94ce624",
   "metadata": {},
   "source": [
    "#### Structure SERVICES"
   ]
  },
  {
   "cell_type": "code",
   "execution_count": null,
   "id": "788eb67d",
   "metadata": {},
   "outputs": [],
   "source": [
    "{\n",
    "    \"SERVICES\": []\n",
    "}"
   ]
  },
  {
   "cell_type": "markdown",
   "id": "203244bf",
   "metadata": {},
   "source": [
    "#### Structure NODES"
   ]
  },
  {
   "cell_type": "code",
   "execution_count": null,
   "id": "598c8151",
   "metadata": {},
   "outputs": [],
   "source": [
    "{\n",
    "    \"NODES\": [\n",
    "        {\n",
    "            \"ID\": ,\n",
    "            \"X\": ,\n",
    "            \"Y\": ,\n",
    "            \"LABEL\": \"CAR\"\n",
    "            \"EXCLUDE_MOVEMENTS\": {\n",
    "\n",
    "            }\n",
    "        },\n",
    "        {\n",
    "            \"ID\": ,\n",
    "            \"X\": ,\n",
    "            \"Y\": ,\n",
    "            \"LABEL\": \"CAR\"\n",
    "            \"EXCLUDE_MOVEMENTS\": {\n",
    "\n",
    "            }\n",
    "        }\n",
    "    ]  \n",
    "}"
   ]
  },
  {
   "cell_type": "markdown",
   "id": "2d163de8",
   "metadata": {},
   "source": [
    "#### Structure LINKS"
   ]
  },
  {
   "cell_type": "code",
   "execution_count": null,
   "id": "1d3a3f6f",
   "metadata": {},
   "outputs": [],
   "source": [
    "{\n",
    "    \"LINKS\"\n",
    "}"
   ]
  },
  {
   "cell_type": "markdown",
   "id": "7711a26b",
   "metadata": {},
   "source": [
    "#### Structure MAP_ROADDB"
   ]
  },
  {
   "cell_type": "code",
   "execution_count": null,
   "id": "e7671989",
   "metadata": {},
   "outputs": [],
   "source": [
    "{\n",
    "    \n",
    "}"
   ]
  },
  {
   "cell_type": "markdown",
   "id": "b4c5fdf4",
   "metadata": {},
   "source": [
    "### Structure d'un layer TC"
   ]
  },
  {
   "cell_type": "code",
   "execution_count": null,
   "id": "488e9458",
   "metadata": {},
   "outputs": [],
   "source": [
    "{\n",
    "    \n",
    "}"
   ]
  },
  {
   "cell_type": "markdown",
   "id": "0ce384e3",
   "metadata": {},
   "source": [
    "#### Structure SERVICES"
   ]
  },
  {
   "cell_type": "code",
   "execution_count": null,
   "id": "dda09a01",
   "metadata": {},
   "outputs": [],
   "source": [
    "{\n",
    "    \"SERVICES\": []\n",
    "}"
   ]
  },
  {
   "cell_type": "markdown",
   "id": "f7bd0057",
   "metadata": {},
   "source": [
    "#### Structure LINES"
   ]
  },
  {
   "cell_type": "code",
   "execution_count": null,
   "id": "354e97c3",
   "metadata": {},
   "outputs": [],
   "source": [
    "{\n",
    "    \n",
    "}"
   ]
  }
 ],
 "metadata": {
  "kernelspec": {
   "display_name": "Python 3 (ipykernel)",
   "language": "python",
   "name": "python3"
  },
  "language_info": {
   "codemirror_mode": {
    "name": "ipython",
    "version": 3
   },
   "file_extension": ".py",
   "mimetype": "text/x-python",
   "name": "python",
   "nbconvert_exporter": "python",
   "pygments_lexer": "ipython3",
   "version": "3.9.7"
  }
 },
 "nbformat": 4,
 "nbformat_minor": 5
}

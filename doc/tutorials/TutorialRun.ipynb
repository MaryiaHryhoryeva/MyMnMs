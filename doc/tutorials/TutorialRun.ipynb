{
 "cells": [
  {
   "cell_type": "markdown",
   "id": "bef93ac6",
   "metadata": {},
   "source": [
    "# Run Tutorial"
   ]
  },
  {
   "cell_type": "markdown",
   "id": "baf2ba14",
   "metadata": {},
   "source": [
    "In this tutorial we present how to run an MnMS simulation"
   ]
  },
  {
   "cell_type": "markdown",
   "id": "53a4a7ff",
   "metadata": {},
   "source": [
    "## Import"
   ]
  },
  {
   "cell_type": "code",
   "execution_count": null,
   "id": "8760f8f2",
   "metadata": {},
   "outputs": [],
   "source": [
    "from mnms.demand import CSVDemandManager\n",
    "from mnms.flow.MFD import Reservoir, MFDFlow\n",
    "from mnms.log import attach_log_file, LOGLEVEL, get_logger, set_all_mnms_logger_level\n",
    "from mnms.tools.time import Time, Dt\n",
    "from mnms.graph.io import load_graph\n",
    "from mnms.travel_decision.logit import LogitDecisionModel\n",
    "from mnms.tools.observer import CSVUserObserver\n",
    "\n",
    "import os\n",
    "import json\n",
    "import pandas as pd"
   ]
  },
  {
   "cell_type": "markdown",
   "id": "cad54ba3",
   "metadata": {},
   "source": [
    "## Get the parameters"
   ]
  },
  {
   "cell_type": "markdown",
   "id": "1739b3fd",
   "metadata": {},
   "source": [
    "In the following we read the param.json file and we retrieve all the parameters in python variables."
   ]
  },
  {
   "cell_type": "code",
   "execution_count": null,
   "id": "22cd5284",
   "metadata": {},
   "outputs": [],
   "source": [
    "param_file_path = \"data/param.json\"\n",
    "param_file = open(os.getcwd() + param_file_path, 'r')\n",
    "param_json = json.load(param_file)\n",
    "\n",
    "# Get Json parameters blocs\n",
    "input_params = param_json['INPUT'] # bloc with input parameters\n",
    "output_params = param_json['OUTPUT'] # bloc with output parameters\n",
    "supervisor_params = param_json['SUPERVISOR'] # bloc with supervisor parameters\n",
    "reservoirs_params = param_json['RESERVOIRS'] # bloc with reservoirs parameters\n",
    "travel_decision_params = param_json['TRAVEL_DECISION'] # bloc with travel decision parameters\n",
    "\n",
    "param_file.close()\n",
    "\n",
    "# Get Json parameters\n",
    "\n",
    "# inputs\n",
    "indir = input_params['indir'] # name of input folder, ex: \"INPUTS\"\n",
    "network_file = input_params['network_file'] # path to json network file, ex: \"/Lyon_symuviainput.json\"\n",
    "demand_file = input_params['demand_file'] # path to csv demand file \n",
    "mfd_file = input_params['mfd_file'] # path to csv MFD file\n",
    "# outputs\n",
    "outdir = output_params['output_dir'] # name of output folder, ex: \"OUTPUTS\"\n",
    "log_file = output_params['log_file'] # path to log file, ex: \"/simulation.log\"\n",
    "path_file = output_params['path_file'] # path to csv path file\n",
    "user_file = output_params['user_file'] # path to csv user file\n",
    "flow_file = output_params['flow_file'] # path to csv flow file\n",
    "travel_time_file = output_params['travel_time_file'] # path to csv travel time file\n",
    "# supervisor\n",
    "log_level = supervisor_params['log_level'] # log level, ex: \"LOGLEVEL.WARNING\"\n",
    "demand_type = supervisor_params['demand_type'] # demand type, \"node\" or \"coordinate\"\n",
    "start_time = supervisor_params['start_time'] # start time in the simulation, ex: \"06:30:00\"\n",
    "end_time = supervisor_params['end_time'] # end time in the simulation, ex: \"14:00:00\"\n",
    "flow_dt = supervisor_params['flow_dt'] # simulation step, ex: 1 (unit in unit_flow_dt parameter)\n",
    "unit_flow_dt = supervisor_params['unit_flow_dt'] # unit of the simulation step, ex: \"minutes\"\n",
    "affectation_factor = supervisor_params['affectation_factor'] # affectation/calculation factor, ex: 10, 10 means 10 * flow_dt so 10 minutes\n",
    "# reservoirs\n",
    "\n",
    "# travel_decision\n",
    "n_shortest_path = travel_decision_params['n_shortest_path'] # number of shortest path calculated\n",
    "radius_sp = travel_decision_params['radius_sp'] # first radius for node search in shortest path calculation\n",
    "radius_growth_sp = travel_decision_params['radius_growth_sp'] # radius step for node search in sp calculation\n",
    "walk_speed = travel_decision_params['walk_speed'] # walking speed, ex: 1.4 (meter per second?)\n",
    "scale_factor_sp = travel_decision_params['scale_factor_sp'] # \n",
    "algorithm = travel_decision_params['algorithm'] # algorithm used for shortest path calculation, ex: \"astar\" or \"djikstra\"\n",
    "decision_model = travel_decision_params['decision_model'] # decision model used, ex: \"LogitDecisionModel\"\n",
    "available_mobility_services = travel_decision_params['available_mobility_services'] # list with available mobility services ex: [\"WALK\", \"PersonalCar\"]"
   ]
  },
  {
   "cell_type": "code",
   "execution_count": null,
   "id": "a35413d2",
   "metadata": {},
   "outputs": [],
   "source": [
    "set_all_mnms_logger_level(LOGLEVEL.WARNING)\n",
    "#get_logger(\"mnms.graph.shortest_path\").setLevel(LOGLEVEL.WARNING)\n",
    "attach_log_file(outdir+log_file)"
   ]
  },
  {
   "cell_type": "code",
   "execution_count": null,
   "id": "cb0a1bc3",
   "metadata": {},
   "outputs": [],
   "source": [
    "def create_lyon_grid_multimodal():\n",
    "    lyon_file_name = indir + log_file\n",
    "    mmgraph = load_graph(lyon_file_name)\n",
    "    return mmgraph"
   ]
  },
  {
   "cell_type": "code",
   "execution_count": null,
   "id": "631504ee",
   "metadata": {},
   "outputs": [],
   "source": [
    "def calculate_V_MFD(N):\n",
    "    #V = 10.3*(1-N/57000) # data from fit prop\n",
    "    V = 0 # data from fit dsty\n",
    "    if N<18000:\n",
    "        V=11.5-N*6/18000\n",
    "    elif N<55000:\n",
    "        V=11.5-6 - (N-18000)*4.5/(55000-18000)\n",
    "    elif N<80000:\n",
    "        V= 11.5-6-4.5-(N-55000)*1/(80000-55000)\n",
    "    #V = 11.5*(1-N/60000)\n",
    "    return max(V,0.001) # min speed to avoid gridlock"
   ]
  },
  {
   "cell_type": "code",
   "execution_count": null,
   "id": "8c5757e0",
   "metadata": {},
   "outputs": [],
   "source": [
    "def construct_reservoir_functions(data_MFD):\n",
    "    func_res = dict()\n",
    "    for _, row in data_MFD.iterrows():\n",
    "        def res_func(dict_accumulation, pc=row[\"Pc\"], nc=row[\"nc\"], njam=row[\"njam\"]):\n",
    "            ncar = dict_accumulation['CAR']\n",
    "            v_car = calculate_V_MFD(ncar)  # speed in m/s\n",
    "            # if ncar <= nc:\n",
    "            #     v_car = pc * (2 * nc - ncar) / nc ** 2\n",
    "            # elif nc < ncar < njam:\n",
    "            #     v_car = pc * (njam - ncar) * (njam + ncar - 2 * nc) / (njam - nc) ** 2 / ncar\n",
    "            # v_car = max(v_car, 0.001)  # avoid gridlock\n",
    "            v_bus = 0.15 * v_car + 10 / 3.6  # from Loder et al. 2017 (Empirics of multi-modal traffic networks)\n",
    "            v_metro = 6  # dummy\n",
    "            v_tram = 5  # dummy\n",
    "            dict_speeds = {'CAR': v_car, 'BUS': v_bus, 'METRO': v_metro, 'TRAM': v_tram}\n",
    "            return dict_speeds\n",
    "        func_res[f\"RES{int(row['reservoirs'])}\"] = res_func\n",
    "    return func_res"
   ]
  },
  {
   "cell_type": "code",
   "execution_count": null,
   "id": "905a2ff9",
   "metadata": {},
   "outputs": [],
   "source": [
    "if __name__ == '__main__':\n",
    "    mmgraph = create_lyon_grid_multimodal()\n",
    "\n",
    "    demand_file_name = indir + demand_file\n",
    "    demand = CSVDemandManager(demand_file_name, demand_type=demand_type)\n",
    "    demand.add_user_observer(CSVUserObserver(outdir+user_file), user_ids=\"all\")\n",
    "\n",
    "    flow_motor = MFDFlow(outfile=outdir+flow_file)\n",
    "    res_funcs = construct_reservoir_functions(pd.read_csv(indir+mfd_file))\n",
    "    for zone in mmgraph.zones:\n",
    "        reservoir = Reservoir.fromZone(mmgraph, zone, res_funcs[zone])\n",
    "        zone_id = zone.removeprefix('RES')\n",
    "        flow_motor.add_reservoir(reservoir)\n",
    "\n",
    "    travel_decision = LogitDecisionModel(mmgraph,\n",
    "                                         outfile=outdir+path_file,\n",
    "                                         n_shortest_path=n_shortest_path,\n",
    "                                         radius_sp=radius_sp,\n",
    "                                         radius_growth_sp=radius_growth_sp,\n",
    "                                         walk_speed=walk_speed)\n",
    "\n",
    "    supervisor = Supervisor(graph=mmgraph,\n",
    "                            flow_motor=flow_motor,\n",
    "                            demand=demand,\n",
    "                            decision_model=travel_decision,\n",
    "                            outfile=outdir+travel_time_file)\n",
    "\n",
    "    supervisor.run(Time(start_time), Time(end_time), Dt(minutes=flow_dt), affectation_factor)"
   ]
  }
 ],
 "metadata": {
  "kernelspec": {
   "display_name": "Python 3 (ipykernel)",
   "language": "python",
   "name": "python3"
  },
  "language_info": {
   "codemirror_mode": {
    "name": "ipython",
    "version": 3
   },
   "file_extension": ".py",
   "mimetype": "text/x-python",
   "name": "python",
   "nbconvert_exporter": "python",
   "pygments_lexer": "ipython3",
   "version": "3.9.7"
  }
 },
 "nbformat": 4,
 "nbformat_minor": 5
}

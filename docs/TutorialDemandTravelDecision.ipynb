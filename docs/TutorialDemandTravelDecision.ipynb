{
 "cells": [
  {
   "cell_type": "markdown",
   "id": "578be66f",
   "metadata": {},
   "source": [
    "# Demand and Travel Decision\n",
    "\n",
    "In this tutorial we introduce the `demand` and `travel_decision` module of `mnms`. The management of the demand is made through the `DemandManager` classes. We cover two of them:\n",
    "\n",
    "* `BaseDemandManager`\n",
    "* `CSVDemandManager`\n",
    " \n",
    "And the choice of the `User` path is made with the `travel_decision` module. We introduce two classes for that:\n",
    "\n",
    "* `SimpleDecisionModel`\n",
    "* `LogitDecisionModel`"
   ]
  },
  {
   "cell_type": "markdown",
   "id": "fb4d1b1e",
   "metadata": {},
   "source": [
    "## Generate a simple graph\n",
    "\n",
    "We use a simple grid `flow_graph` generated with the function `create_grid_graph`, then we add one mobility service that cover all the `flow_graph`."
   ]
  },
  {
   "cell_type": "code",
   "execution_count": 2,
   "id": "72bc2d23",
   "metadata": {},
   "outputs": [
    {
     "data": {
      "image/png": "[encoded data removed]",
      "text/plain": [
       "<Figure size 1152x648 with 1 Axes>"
      ]
     },
     "metadata": {
      "needs_background": "light"
     },
     "output_type": "display_data"
    }
   ],
   "source": [
    "import matplotlib.pyplot as plt\n",
    "\n",
    "from mnms.generation.mlgraph import generate_manhattan_passenger_car\n",
    "from mnms.tools.render import draw_roads\n",
    "\n",
    "mlgraph = generate_manhattan_passenger_car(4, 10)\n",
    "\n",
    "fig, ax = plt.subplots(figsize=(16, 9))\n",
    "draw_roads(ax, mlgraph.roads, linkwidth=2, nodesize=5)"
   ]
  },
  {
   "cell_type": "markdown",
   "id": "aad1a4a4",
   "metadata": {},
   "source": [
    "## Demand"
   ]
  },
  {
   "cell_type": "markdown",
   "id": "f41bcb00",
   "metadata": {},
   "source": [
    "### Random demand\n",
    "\n",
    "In the following we create a random demand, the function `create_random_demand` return a `BaseDemandManager`."
   ]
  },
  {
   "cell_type": "code",
   "execution_count": 3,
   "id": "01da5bcd",
   "metadata": {},
   "outputs": [
    {
     "name": "stdout",
     "output_type": "stream",
     "text": [
      "User('0', ORIGIN_WEST_1->DESTINATION_SOUTH_1, 10:01:57.64)\n",
      "User('1', ORIGIN_EAST_3->DESTINATION_WEST_3, 10:22:09.34)\n",
      "User('2', ORIGIN_6->DESTINATION_NORTH_2, 10:26:04.83)\n",
      "User('3', ORIGIN_EAST_2->DESTINATION_3, 10:41:01.93)\n",
      "User('4', ORIGIN_NORTH_1->DESTINATION_WEST_2, 10:49:22.69)\n",
      "User('5', ORIGIN_EAST_3->DESTINATION_WEST_1, 11:03:51.69)\n",
      "User('6', ORIGIN_WEST_3->DESTINATION_EAST_0, 11:09:50.65)\n",
      "User('7', ORIGIN_NORTH_1->DESTINATION_9, 11:25:52.41)\n",
      "User('8', ORIGIN_0->DESTINATION_EAST_1, 11:35:52.21)\n",
      "User('9', ORIGIN_4->DESTINATION_5, 11:38:23.5)\n",
      "User('10', ORIGIN_4->DESTINATION_1, 11:56:16.16)\n"
     ]
    }
   ],
   "source": [
    "from mnms.generation.demand import generate_random_demand\n",
    "\n",
    "demand = generate_random_demand(mlgraph,\n",
    "                                10,\n",
    "                                tstart=\"10:00:00\", \n",
    "                                tend=\"12:00:00\", \n",
    "                                cost_path='length', \n",
    "                                min_cost=0.4)\n",
    "demand.show_users()"
   ]
  },
  {
   "cell_type": "markdown",
   "id": "e6f9454d",
   "metadata": {},
   "source": [
    "### CSV Predefined demand\n",
    "\n",
    "We can use a predefined demand, the `CSVDemandManager` can read a sorted demand by time from a CSV file.\n",
    "\n",
    "There is an example of demand in CSV format:"
   ]
  },
  {
   "cell_type": "code",
   "execution_count": 4,
   "id": "1ea8c74b",
   "metadata": {},
   "outputs": [
    {
     "data": {
      "text/html": [
       "<div>\n",
       "<style scoped>\n",
       "    .dataframe tbody tr th:only-of-type {\n",
       "        vertical-align: middle;\n",
       "    }\n",
       "\n",
       "    .dataframe tbody tr th {\n",
       "        vertical-align: top;\n",
       "    }\n",
       "\n",
       "    .dataframe thead th {\n",
       "        text-align: right;\n",
       "    }\n",
       "</style>\n",
       "<table border=\"1\" class=\"dataframe\">\n",
       "  <thead>\n",
       "    <tr style=\"text-align: right;\">\n",
       "      <th></th>\n",
       "      <th>ID</th>\n",
       "      <th>TIME</th>\n",
       "      <th>ORIGIN</th>\n",
       "      <th>DESTINATION</th>\n",
       "    </tr>\n",
       "  </thead>\n",
       "  <tbody>\n",
       "    <tr>\n",
       "      <th>0</th>\n",
       "      <td>0</td>\n",
       "      <td>07:00:00</td>\n",
       "      <td>ORIGIN_SOUTH_0</td>\n",
       "      <td>DESTINATION_12</td>\n",
       "    </tr>\n",
       "    <tr>\n",
       "      <th>1</th>\n",
       "      <td>1</td>\n",
       "      <td>07:10:00</td>\n",
       "      <td>ORIGIN_NORTH_2</td>\n",
       "      <td>DESTINATION_SOUTH_0</td>\n",
       "    </tr>\n",
       "    <tr>\n",
       "      <th>2</th>\n",
       "      <td>2</td>\n",
       "      <td>07:20:00</td>\n",
       "      <td>ORIGIN_11</td>\n",
       "      <td>DESTINATION_WEST_0</td>\n",
       "    </tr>\n",
       "    <tr>\n",
       "      <th>3</th>\n",
       "      <td>4</td>\n",
       "      <td>07:30:00</td>\n",
       "      <td>ORIGIN_WEST_3</td>\n",
       "      <td>DESTINATION_NORTH_3</td>\n",
       "    </tr>\n",
       "  </tbody>\n",
       "</table>\n",
       "</div>"
      ],
      "text/plain": [
       "   ID      TIME          ORIGIN          DESTINATION\n",
       "0   0  07:00:00  ORIGIN_SOUTH_0       DESTINATION_12\n",
       "1   1  07:10:00  ORIGIN_NORTH_2  DESTINATION_SOUTH_0\n",
       "2   2  07:20:00       ORIGIN_11   DESTINATION_WEST_0\n",
       "3   4  07:30:00   ORIGIN_WEST_3  DESTINATION_NORTH_3"
      ]
     },
     "execution_count": 4,
     "metadata": {},
     "output_type": "execute_result"
    }
   ],
   "source": [
    "import pandas as pd\n",
    "\n",
    "pd.read_csv('data/simple_demand.csv', sep=';')"
   ]
  },
  {
   "cell_type": "markdown",
   "id": "a124a7e1",
   "metadata": {},
   "source": [
    "And how to load it in `mnms`:"
   ]
  },
  {
   "cell_type": "code",
   "execution_count": 5,
   "id": "281fd328",
   "metadata": {},
   "outputs": [
    {
     "data": {
      "text/plain": [
       "[User('0', ORIGIN_SOUTH_0->DESTINATION_12, 07:00:00.00),\n",
       " User('1', ORIGIN_NORTH_2->DESTINATION_SOUTH_0, 07:10:00.00),\n",
       " User('2', ORIGIN_11->DESTINATION_WEST_0, 07:20:00.00)]"
      ]
     },
     "execution_count": 5,
     "metadata": {},
     "output_type": "execute_result"
    }
   ],
   "source": [
    "from mnms.demand import CSVDemandManager\n",
    "from mnms.time import Time\n",
    "\n",
    "demand = CSVDemandManager('data/simple_demand.csv')\n",
    "\n",
    "users = demand.get_next_departures(Time(\"07:00:00\"), Time(\"07:30:00\"))\n",
    "users"
   ]
  },
  {
   "cell_type": "markdown",
   "id": "133e0bb5",
   "metadata": {},
   "source": [
    "## Travel Decision\n",
    "\n",
    "The `travel_decision` module is used to choose the path of a a `User`, from a pair origin/destination it computes a path that will be later use in a `FlowMotor`."
   ]
  },
  {
   "cell_type": "code",
   "execution_count": 6,
   "id": "52f461f7",
   "metadata": {},
   "outputs": [],
   "source": [
    "from mnms.generation.layers import generate_matching_origin_destination_layer\n",
    "\n",
    "odlayer = generate_matching_origin_destination_layer(mlgraph.roads)"
   ]
  },
  {
   "cell_type": "markdown",
   "id": "64fa508b",
   "metadata": {},
   "source": [
    "### SimpleDecisionModel\n",
    "\n",
    "The `SimpleDecisionModel` only compute the best shortest path for the `User` and set its `path` attribute"
   ]
  },
  {
   "cell_type": "code",
   "execution_count": 7,
   "id": "a6b0001a",
   "metadata": {},
   "outputs": [
    {
     "name": "stdout",
     "output_type": "stream",
     "text": [
      "User('0', ORIGIN_SOUTH_0->DESTINATION_12, 07:00:00.00), path: None\n"
     ]
    }
   ],
   "source": [
    "from mnms.travel_decision import DummyDecisionModel\n",
    "\n",
    "travel_decision = DummyDecisionModel(mlgraph, cost=\"length\")\n",
    "\n",
    "first_user = users[0]\n",
    "print(f\"{first_user}, path: {first_user.path}\")"
   ]
  },
  {
   "cell_type": "code",
   "execution_count": 8,
   "id": "b022dacf",
   "metadata": {},
   "outputs": [
    {
     "name": "stdout",
     "output_type": "stream",
     "text": [
      "User('0', ORIGIN_SOUTH_0->DESTINATION_12, 07:00:00.00), path: ['ORIGIN_SOUTH_0', 'CAR_SOUTH_0', 'CAR_0', 'CAR_4', 'CAR_8', 'CAR_12', 'DESTINATION_12']\n"
     ]
    }
   ],
   "source": [
    "travel_decision([first_user])\n",
    "\n",
    "print(f\"{first_user}, path: {first_user.path.nodes}\")"
   ]
  },
  {
   "cell_type": "markdown",
   "id": "a0c13876",
   "metadata": {},
   "source": [
    "### LogitDecisionModel\n",
    "\n",
    "The `LogitDecisionModel` compute `n` best shortest path and set a probability of choosing a path following this model:\n",
    "\n",
    "\\begin{equation}\n",
    "p_j=\\frac{e^{-\\theta c_j}}{\\sum_{i=1}^ne^{-\\theta c_i}}\n",
    "\\end{equation}\n",
    "\n",
    "Where:\n",
    "\n",
    "* c is the cost of the path\n",
    "* $\\theta$ is the logit parameter\n",
    "* n is the number of path"
   ]
  },
  {
   "cell_type": "code",
   "execution_count": 9,
   "id": "c7719b9a",
   "metadata": {},
   "outputs": [
    {
     "name": "stdout",
     "output_type": "stream",
     "text": [
      "User('1', ORIGIN_NORTH_2->DESTINATION_SOUTH_0, 07:10:00.00), path: None\n"
     ]
    }
   ],
   "source": [
    "from mnms.travel_decision import LogitDecisionModel\n",
    "\n",
    "travel_decision = LogitDecisionModel(mlgraph,\n",
    "                                     cost=\"length\",\n",
    "                                     theta=0.01,\n",
    "                                     n_shortest_path=2)\n",
    "\n",
    "second_user = users[1]\n",
    "print(f\"{second_user}, path: {second_user.path}\")"
   ]
  },
  {
   "cell_type": "code",
   "execution_count": 10,
   "id": "679db45c",
   "metadata": {},
   "outputs": [
    {
     "name": "stdout",
     "output_type": "stream",
     "text": [
      "User('1', ORIGIN_NORTH_2->DESTINATION_SOUTH_0, 07:10:00.00), path:\n",
      " Path(path_cost=70.0, nodes=['ORIGIN_NORTH_2', 'CAR_NORTH_2', 'CAR_11', 'CAR_10', 'CAR_6', 'CAR_5', 'CAR_4', 'CAR_0', 'CAR_SOUTH_0', 'DESTINATION_SOUTH_0'], layers=[('CAR', slice(1, 9, 1))], services=['PersonalCar'])\n"
     ]
    }
   ],
   "source": [
    "travel_decision([second_user])\n",
    "\n",
    "print(f\"{second_user}, path:\\n {second_user.path}\")"
   ]
  },
  {
   "cell_type": "markdown",
   "id": "2c80c83c",
   "metadata": {},
   "source": [
    "### Rendering path"
   ]
  },
  {
   "cell_type": "code",
   "execution_count": 11,
   "id": "0b883ad7",
   "metadata": {},
   "outputs": [
    {
     "data": {
      "image/png": "[encoded data removed]",
      "text/plain": [
       "<Figure size 1152x648 with 1 Axes>"
      ]
     },
     "metadata": {
      "needs_background": "light"
     },
     "output_type": "display_data"
    }
   ],
   "source": [
    "from mnms.tools.render import draw_path\n",
    "\n",
    "fig, ax = plt.subplots(figsize=(16, 9))\n",
    "draw_roads(ax, mlgraph.roads, linkwidth=2, nodesize=5)\n",
    "draw_path(ax, mlgraph, second_user.path)"
   ]
  }
 ],
 "metadata": {
  "kernelspec": {
   "display_name": "Python 3 (ipykernel)",
   "language": "python",
   "name": "python3"
  },
  "language_info": {
   "codemirror_mode": {
    "name": "ipython",
    "version": 3
   },
   "file_extension": ".py",
   "mimetype": "text/x-python",
   "name": "python",
   "nbconvert_exporter": "python",
   "pygments_lexer": "ipython3",
   "version": "3.10.5"
  }
 },
 "nbformat": 4,
 "nbformat_minor": 5
}

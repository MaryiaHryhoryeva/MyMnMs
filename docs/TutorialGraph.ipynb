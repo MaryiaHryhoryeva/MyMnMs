{
 "cells": [
  {
   "cell_type": "markdown",
   "id": "fbc8a307",
   "metadata": {},
   "source": [
    "# Graph"
   ]
  },
  {
   "cell_type": "markdown",
   "id": "abbc84c7",
   "metadata": {},
   "source": [
    "In this tutorial we introduce the notion of `MultiLayerGraph`, how to construct and manipulate it.\n",
    "\n",
    "`MultiLayerGraph` is made of two component, the `graph` and the `roads`. The first one is an multi layer oriented graph represensting the all the mobility services and their connections inside one connected graph, the second one is a physical descriptions of the roads inside your network."
   ]
  },
  {
   "cell_type": "markdown",
   "id": "786bb997",
   "metadata": {},
   "source": [
    "## Create a simple RoadDescriptor"
   ]
  },
  {
   "cell_type": "markdown",
   "id": "c62d09d3",
   "metadata": {},
   "source": [
    "### Instantiation"
   ]
  },
  {
   "cell_type": "code",
   "execution_count": 1,
   "id": "340dbcb6",
   "metadata": {},
   "outputs": [
    {
     "data": {
      "text/plain": [
       "<mnms.graph.road.RoadDescriptor at 0x7f4d28269440>"
      ]
     },
     "execution_count": 1,
     "metadata": {},
     "output_type": "execute_result"
    }
   ],
   "source": [
    "from mnms.graph.road import RoadDescriptor\n",
    "\n",
    "roads = RoadDescriptor()\n",
    "roads"
   ]
  },
  {
   "cell_type": "markdown",
   "id": "9ae314fc",
   "metadata": {},
   "source": [
    "### Registering nodes"
   ]
  },
  {
   "cell_type": "code",
   "execution_count": 2,
   "id": "9a033641",
   "metadata": {},
   "outputs": [
    {
     "data": {
      "text/plain": [
       "{'IN': array([-50,   0]),\n",
       " '0': array([0, 0]),\n",
       " '1': array([100,   0]),\n",
       " '2': array([100, 100]),\n",
       " '3': array([  0, 100]),\n",
       " 'OUT': array([150, 100])}"
      ]
     },
     "execution_count": 2,
     "metadata": {},
     "output_type": "execute_result"
    }
   ],
   "source": [
    "roads.register_node('IN', [-50, 0])\n",
    "roads.register_node('0', [0, 0])\n",
    "roads.register_node('1', [100, 0])\n",
    "roads.register_node('2', [100, 100])\n",
    "roads.register_node('3', [0, 100])\n",
    "roads.register_node('OUT', [150, 100]) \n",
    "\n",
    "roads.nodes"
   ]
  },
  {
   "cell_type": "markdown",
   "id": "f40b5f81",
   "metadata": {},
   "source": [
    "### Registering sections"
   ]
  },
  {
   "cell_type": "code",
   "execution_count": 3,
   "id": "89f21c2a",
   "metadata": {},
   "outputs": [
    {
     "data": {
      "text/plain": [
       "{'IN_0': {'upstream': 'IN', 'downstream': '0', 'length': 50.0, 'zone': None},\n",
       " '0_1': {'upstream': '0', 'downstream': '1', 'length': 100.0, 'zone': None},\n",
       " '1_2': {'upstream': '1', 'downstream': '2', 'length': 100.0, 'zone': None},\n",
       " '0_3': {'upstream': '0', 'downstream': '3', 'length': 100.0, 'zone': None},\n",
       " '3_2': {'upstream': '3', 'downstream': '2', 'length': 100.0, 'zone': None},\n",
       " '2_OUT': {'upstream': '2', 'downstream': 'OUT', 'length': 50.0, 'zone': None}}"
      ]
     },
     "execution_count": 3,
     "metadata": {},
     "output_type": "execute_result"
    }
   ],
   "source": [
    "roads.register_section('IN_0', 'IN', '0')\n",
    "roads.register_section('0_1', '0', '1')\n",
    "roads.register_section('1_2', '1', '2')\n",
    "roads.register_section('0_3', '0', '3')\n",
    "roads.register_section('3_2', '3', '2')\n",
    "roads.register_section('2_OUT', '2', 'OUT')\n",
    "\n",
    "roads.sections"
   ]
  },
  {
   "cell_type": "markdown",
   "id": "559f0df9",
   "metadata": {},
   "source": [
    "### Registering stops"
   ]
  },
  {
   "cell_type": "code",
   "execution_count": 4,
   "id": "45782da7",
   "metadata": {},
   "outputs": [
    {
     "data": {
      "text/plain": [
       "{'S0': {'section': 'IN_0',\n",
       "  'relative_position': 0.4,\n",
       "  'absolute_position': array([-30.,   0.])},\n",
       " 'S1': {'section': '3_2',\n",
       "  'relative_position': 0.75,\n",
       "  'absolute_position': array([ 75., 100.])}}"
      ]
     },
     "execution_count": 4,
     "metadata": {},
     "output_type": "execute_result"
    }
   ],
   "source": [
    "roads.register_stop('S0', 'IN_0', 0.4)\n",
    "roads.register_stop('S1', '3_2', 0.75)\n",
    "\n",
    "\n",
    "roads.stops"
   ]
  },
  {
   "cell_type": "markdown",
   "id": "c599bb2b",
   "metadata": {},
   "source": [
    "### Rendering"
   ]
  },
  {
   "cell_type": "code",
   "execution_count": 5,
   "id": "75010e18",
   "metadata": {},
   "outputs": [
    {
     "data": {
      "image/png": "[encoded data removed]",
      "text/plain": [
       "<Figure size 1152x648 with 1 Axes>"
      ]
     },
     "metadata": {
      "needs_background": "light"
     },
     "output_type": "display_data"
    }
   ],
   "source": [
    "from mnms.tools.render import draw_roads\n",
    "import matplotlib.pyplot as plt\n",
    "\n",
    "fig, ax = plt.subplots(figsize=(16, 9))\n",
    "draw_roads(ax, roads, nodesize=7, linkwidth=2, label_size=10)"
   ]
  },
  {
   "cell_type": "markdown",
   "id": "340baf5d",
   "metadata": {},
   "source": [
    "## Add Layer and mobility services\n",
    "\n",
    "A Layer of the mobility graph is associated to a type of Vehicle, mobility services are associated to a layer. The Layer is a graph representation and the mobility service contains the logic for managing a fleet of Vehicle."
   ]
  },
  {
   "cell_type": "markdown",
   "id": "8aadafae",
   "metadata": {},
   "source": [
    "### Car layer with a personal car mobility service"
   ]
  },
  {
   "cell_type": "code",
   "execution_count": 10,
   "id": "5f20cc1a",
   "metadata": {},
   "outputs": [
    {
     "data": {
      "text/plain": [
       "{'PersonalCar': <mnms.mobility_service.car.PersonalCarMobilityService at 0x7f4cb57a67a0>}"
      ]
     },
     "execution_count": 10,
     "metadata": {},
     "output_type": "execute_result"
    }
   ],
   "source": [
    "from mnms.graph.layers import CarLayer\n",
    "from mnms.mobility_service.car import PersonalCarMobilityService\n",
    "\n",
    "SPEED_CAR = 10\n",
    "\n",
    "car = CarLayer(roads,\n",
    "               default_speed=SPEED_CAR,\n",
    "               services=[PersonalCarMobilityService()])\n",
    "\n",
    "car.create_node('CIN', 'IN')\n",
    "car.create_node('C0', '0')\n",
    "car.create_node('C1', '1')\n",
    "car.create_node('C2', '2')\n",
    "car.create_node('COUT', 'OUT')\n",
    "\n",
    "car.create_link('CIN_C0', 'CIN', 'C0', {'travel_time':0.5/SPEED_CAR}, ['IN_0'])\n",
    "car.create_link('C0_C1', 'C0', 'C1', {'travel_time':1/SPEED_CAR}, ['0_1'])\n",
    "car.create_link('C1_C2', 'C1', 'C2', {'travel_time':1/SPEED_CAR}, ['1_2'])\n",
    "car.create_link('C2_COUT', 'C2', 'COUT', {'travel_time':0.5/SPEED_CAR}, ['2_OUT'])\n",
    "\n",
    "car.mobility_services"
   ]
  },
  {
   "cell_type": "markdown",
   "id": "c4534beb",
   "metadata": {},
   "source": [
    "### Bus layer with a public transportmobility service"
   ]
  },
  {
   "cell_type": "code",
   "execution_count": 2,
   "id": "4fd5fc4e",
   "metadata": {},
   "outputs": [
    {
     "ename": "ImportError",
     "evalue": "cannot import name 'BusMobilityGraphLayer' from 'mnms.graph.layers' (/home/florian/Work/UGE/MnMS/src/mnms/graph/layers.py)",
     "output_type": "error",
     "traceback": [
      "\u001b[0;31m---------------------------------------------------------------------------\u001b[0m",
      "\u001b[0;31mImportError\u001b[0m                               Traceback (most recent call last)",
      "Input \u001b[0;32mIn [2]\u001b[0m, in \u001b[0;36m<cell line: 1>\u001b[0;34m()\u001b[0m\n\u001b[0;32m----> 1\u001b[0m \u001b[38;5;28;01mfrom\u001b[39;00m \u001b[38;5;21;01mmnms\u001b[39;00m\u001b[38;5;21;01m.\u001b[39;00m\u001b[38;5;21;01mgraph\u001b[39;00m\u001b[38;5;21;01m.\u001b[39;00m\u001b[38;5;21;01mlayers\u001b[39;00m \u001b[38;5;28;01mimport\u001b[39;00m BusMobilityGraphLayer\n\u001b[1;32m      2\u001b[0m \u001b[38;5;28;01mfrom\u001b[39;00m \u001b[38;5;21;01mmnms\u001b[39;00m\u001b[38;5;21;01m.\u001b[39;00m\u001b[38;5;21;01mmobility_service\u001b[39;00m\u001b[38;5;21;01m.\u001b[39;00m\u001b[38;5;21;01mpublic_transport\u001b[39;00m \u001b[38;5;28;01mimport\u001b[39;00m PublicTransportMobilityService\n\u001b[1;32m      3\u001b[0m \u001b[38;5;28;01mfrom\u001b[39;00m \u001b[38;5;21;01mmnms\u001b[39;00m\u001b[38;5;21;01m.\u001b[39;00m\u001b[38;5;21;01mtools\u001b[39;00m\u001b[38;5;21;01m.\u001b[39;00m\u001b[38;5;21;01mtime\u001b[39;00m \u001b[38;5;28;01mimport\u001b[39;00m TimeTable, Dt\n",
      "\u001b[0;31mImportError\u001b[0m: cannot import name 'BusMobilityGraphLayer' from 'mnms.graph.layers' (/home/florian/Work/UGE/MnMS/src/mnms/graph/layers.py)"
     ]
    }
   ],
   "source": [
    "# from mnms.graph.layers import BusMobilityGraphLayer\n",
    "# from mnms.mobility_service.public_transport import PublicTransportMobilityService\n",
    "# from mnms.tools.time import TimeTable, Dt\n",
    "\n",
    "# SPEED_BUS = 5\n",
    "\n",
    "# bus = BusMobilityGraphLayer('BusLayer',\n",
    "#                             SPEED_BUS,\n",
    "#                             services=[PublicTransportMobilityService('Bus')])\n",
    "\n",
    "# bus_line = bus.add_line('L1', TimeTable.create_table_freq('07:00:00', '18:00:00', Dt(minutes=10)))\n",
    "\n",
    "# bus_line.add_stop('BIN', 'IN')\n",
    "# bus_line.add_stop('B0', '0')\n",
    "# bus_line.add_stop('B3', '3')\n",
    "# bus_line.add_stop('B2', '2')\n",
    "# bus_line.add_stop('BOUT', 'OUT')\n",
    "\n",
    "# bus_line.connect_stops('BIN_B0', 'BIN', 'B0', 0.5, ['IN_0'], {'travel_time':0.5/SPEED_BUS})\n",
    "# bus_line.connect_stops('B0_B3', 'B0', 'B3', 1, ['0_3'], {'travel_time':1/SPEED_BUS})\n",
    "# bus_line.connect_stops('B3_B2', 'B3', 'B2', 1, ['3_2'], {'travel_time':1/SPEED_BUS})\n",
    "# bus_line.connect_stops('B2_COUT', 'B2', 'BOUT', 0.5, ['2_OUT'], {'travel_time':0.5/SPEED_BUS})\n",
    "\n",
    "# bus.mobility_services"
   ]
  },
  {
   "cell_type": "markdown",
   "id": "3ea55d60",
   "metadata": {},
   "source": [
    "### Add the mobility services to the MultiModalGraph\n",
    "\n",
    "Then we add the two mobility services to the `MultiModalGraph`. And check that there is no duplicate in the nodes and links."
   ]
  },
  {
   "cell_type": "code",
   "execution_count": null,
   "id": "076857db",
   "metadata": {},
   "outputs": [],
   "source": [
    "# mmgraph.add_layer(car)\n",
    "# mmgraph.add_layer(bus)\n",
    "# mmgraph.mobility_graph.check()\n",
    "\n",
    "# mmgraph.layers"
   ]
  },
  {
   "cell_type": "markdown",
   "id": "6273e1e4",
   "metadata": {},
   "source": [
    "### Rendering the mobility services"
   ]
  },
  {
   "cell_type": "code",
   "execution_count": null,
   "id": "2122c488",
   "metadata": {},
   "outputs": [],
   "source": [
    "# from mnms.tools.render import draw_multimodal_graph\n",
    "\n",
    "# fig, ax = plt.subplots(figsize=(16, 9))\n",
    "# draw_multimodal_graph(ax, mmgraph, nodesize=5, linkwidth=2, dy=50)"
   ]
  },
  {
   "cell_type": "markdown",
   "id": "224190c4",
   "metadata": {},
   "source": [
    "## Compute shortest path\n",
    "\n",
    "To compute a shortest path, we define a `User` with an origin/destination and a departure time. The shortest path algorithm use the dictionary of cost define on links. We use the `time` cost previously define."
   ]
  },
  {
   "cell_type": "code",
   "execution_count": null,
   "id": "12a50639",
   "metadata": {},
   "outputs": [],
   "source": [
    "# from mnms.graph.shortest_path import compute_shortest_path\n",
    "# from mnms.demand.user import User\n",
    "# from mnms.tools.time import Time\n",
    "\n",
    "# user = User('U0', 'IN', 'OUT', Time('07:00:00'), available_mobility_services=['PersonalCar'])\n",
    "# path = compute_shortest_path(mmgraph, user)\n",
    "# print(f\"Path cost: {path.path_cost}, path:{path.nodes}\") "
   ]
  },
  {
   "cell_type": "markdown",
   "id": "9a50e18f",
   "metadata": {},
   "source": [
    "## Save graph\n",
    "\n",
    "You can save the `MultiModalGraph` in a json format using the `io` module."
   ]
  },
  {
   "cell_type": "code",
   "execution_count": null,
   "id": "81db7856",
   "metadata": {},
   "outputs": [],
   "source": [
    "# from mnms.graph.io import save_graph\n",
    "\n",
    "# save_graph(mmgraph, 'results/mmgraph.json')"
   ]
  },
  {
   "cell_type": "markdown",
   "id": "e93190ce",
   "metadata": {},
   "source": [
    "And reload it using the `load_graph` function:"
   ]
  },
  {
   "cell_type": "code",
   "execution_count": null,
   "id": "a0708e20",
   "metadata": {},
   "outputs": [],
   "source": [
    "# from mnms.graph.io import load_graph\n",
    "\n",
    "# new_mmgraph = load_graph('results/mmgraph.json')\n",
    "\n",
    "# fig, ax = plt.subplots(figsize=(16, 9))\n",
    "# draw_multimodal_graph(ax, new_mmgraph, nodesize=5, linkwidth=2, dy=50)"
   ]
  }
 ],
 "metadata": {
  "kernelspec": {
   "display_name": "Python 3 (ipykernel)",
   "language": "python",
   "name": "python3"
  },
  "language_info": {
   "codemirror_mode": {
    "name": "ipython",
    "version": 3
   },
   "file_extension": ".py",
   "mimetype": "text/x-python",
   "name": "python",
   "nbconvert_exporter": "python",
   "pygments_lexer": "ipython3",
   "version": "3.10.5"
  }
 },
 "nbformat": 4,
 "nbformat_minor": 5
}
